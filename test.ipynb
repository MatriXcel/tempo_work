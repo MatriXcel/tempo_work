{
 "cells": [
  {
   "cell_type": "code",
   "execution_count": 11,
   "metadata": {},
   "outputs": [],
   "source": [
    "def search_list(list, value):\n",
    "    lo, hi = 0, len(list)-1\n",
    "  \n",
    "    while(lo <= hi):\n",
    "        mid = (lo + hi)//2\n",
    "\n",
    "        if(value == list[mid]):\n",
    "            if(list[mid-1] == value):\n",
    "                hi = mid-1\n",
    "            else:\n",
    "                return mid\n",
    "        elif(value > list[mid]):\n",
    "            lo = mid+1\n",
    "        else:\n",
    "            hi = mid-1\n",
    "\n",
    "    return -1"
   ]
  },
  {
   "cell_type": "code",
   "execution_count": 12,
   "metadata": {},
   "outputs": [
    {
     "data": {
      "text/plain": [
       "2"
      ]
     },
     "execution_count": 12,
     "metadata": {},
     "output_type": "execute_result"
    }
   ],
   "source": [
    "search_list([1, 10, 70, 70, 100, 123, 125], 70)"
   ]
  },
  {
   "cell_type": "code",
   "execution_count": 9,
   "metadata": {},
   "outputs": [
    {
     "data": {
      "text/plain": [
       "'i'"
      ]
     },
     "execution_count": 9,
     "metadata": {},
     "output_type": "execute_result"
    }
   ],
   "source": [
    "\"i\"[0:10]"
   ]
  },
  {
   "cell_type": "code",
   "execution_count": 3,
   "metadata": {},
   "outputs": [],
   "source": [
    "import pandas as pd\n",
    "\n",
    "from sklearn.datasets import load_iris\n",
    "from scipy import spatial\n",
    "data = load_iris()\n",
    "temp = {}\n",
    "temp['data'] = data['data'].tolist()\n",
    "temp['target'] = data['target'].tolist()\n",
    "df = pd.DataFrame(temp)"
   ]
  },
  {
   "cell_type": "code",
   "execution_count": 13,
   "metadata": {},
   "outputs": [],
   "source": [
    "target_point = [5.0, 3.1, 2.4, 1.6]\n",
    "\n",
    "point_dists = []\n",
    "\n",
    "for index, row in df.iterrows():\n",
    "    dist = spatial.distance.cosine(target_point, row['data'])\n",
    "    point_dists.append((index, row['target'], dist))\n",
    "\n",
    "point_dists.sort(key=lambda x: x[2])"
   ]
  },
  {
   "cell_type": "code",
   "execution_count": null,
   "metadata": {},
   "outputs": [],
   "source": []
  },
  {
   "cell_type": "code",
   "execution_count": 14,
   "metadata": {},
   "outputs": [
    {
     "data": {
      "text/plain": [
       "2"
      ]
     },
     "execution_count": 14,
     "metadata": {},
     "output_type": "execute_result"
    }
   ],
   "source": [
    "target_labels = [point[1] for point in point_dists[:10]]\n",
    "max(set(target_labels), key=target_labels.count)"
   ]
  },
  {
   "cell_type": "code",
   "execution_count": 50,
   "metadata": {},
   "outputs": [],
   "source": [
    "def compute_label(target_point):\n",
    "\n",
    "    point_dists = []\n",
    "\n",
    "    for index, row in df.iterrows():\n",
    "        dist = spatial.distance.cosine(target_point, row['data'])\n",
    "        point_dists.append((index, row['target'], dist))\n",
    "\n",
    "    point_dists.sort(key=lambda x: x[2])\n",
    "\n",
    "    target_labels = [point[1] for point in point_dists[:10]]\n",
    "    return max(set(target_labels), key=target_labels.count)"
   ]
  },
  {
   "cell_type": "code",
   "execution_count": 16,
   "metadata": {},
   "outputs": [
    {
     "data": {
      "text/plain": [
       "2"
      ]
     },
     "execution_count": 16,
     "metadata": {},
     "output_type": "execute_result"
    }
   ],
   "source": [
    "compute_label([6.0, 3.1, 5.5, 2.0])"
   ]
  },
  {
   "cell_type": "code",
   "execution_count": 17,
   "metadata": {},
   "outputs": [
    {
     "data": {
      "text/plain": [
       "0"
      ]
     },
     "execution_count": 17,
     "metadata": {},
     "output_type": "execute_result"
    }
   ],
   "source": [
    "compute_label([5.0, 3.1, 2.1, 0.6])"
   ]
  },
  {
   "cell_type": "code",
   "execution_count": 21,
   "metadata": {},
   "outputs": [
    {
     "data": {
      "text/plain": [
       "(0, (23, 0, 0.0027356468483812346))"
      ]
     },
     "execution_count": 21,
     "metadata": {},
     "output_type": "execute_result"
    }
   ],
   "source": [
    "compute_label([5.0, 3.1, 2.1, 0.6])"
   ]
  },
  {
   "cell_type": "code",
   "execution_count": 53,
   "metadata": {},
   "outputs": [],
   "source": [
    "pairwise_dists = []\n",
    "for index, row in df.iterrows():\n",
    "    if row['target'] == 1:\n",
    "        pairwise_dists.append(compute_label(row['data'], eliminate_target=True)[1][2])"
   ]
  },
  {
   "cell_type": "code",
   "execution_count": 54,
   "metadata": {},
   "outputs": [
    {
     "data": {
      "text/plain": [
       "[7.5438505954261714e-06,\n",
       " 9.980268639386836e-05,\n",
       " 8.423885559505351e-05,\n",
       " 0.00014741380555027828,\n",
       " 0.00014323573242358556,\n",
       " 9.350764286364388e-05,\n",
       " 6.806543421744582e-05,\n",
       " 0.00015048347042834198,\n",
       " 1.1939941319538683e-05,\n",
       " 6.806543421744582e-05,\n",
       " 4.339943268494295e-05,\n",
       " 0.00011395437860306501,\n",
       " 0.0006387712107235322,\n",
       " 9.350764286364388e-05,\n",
       " 0.0007238176366917148,\n",
       " 9.028941399313872e-06,\n",
       " 0.00016523408825930286,\n",
       " 0.0002804356340116998,\n",
       " 0.0005292697184360318,\n",
       " 1.338281578000533e-05,\n",
       " 0.0002889567712146546,\n",
       " 9.028941399313872e-06,\n",
       " 0.0007032410765759334,\n",
       " 0.00024056963270735476,\n",
       " 7.5438505954261714e-06,\n",
       " 3.2267662958385124e-05,\n",
       " 4.339943268494295e-05,\n",
       " 0.00016074282379430205,\n",
       " 8.292773962470523e-05,\n",
       " 0.0005937999981058262,\n",
       " 1.1939941319538683e-05,\n",
       " 0.000151414851029541,\n",
       " 2.8744085072252012e-05,\n",
       " 0.0011371035264897689,\n",
       " 0.00016523408825930286,\n",
       " 0.00040452576622440617,\n",
       " 7.655490017266509e-05,\n",
       " 0.0003455185873153521,\n",
       " 0.00014870044352766065,\n",
       " 0.00013470833757966982,\n",
       " 0.0001428781163204107,\n",
       " 2.405649141190569e-05,\n",
       " 4.563165103288469e-05,\n",
       " 2.8939588521126325e-05,\n",
       " 2.405649141190569e-05,\n",
       " 0.00014870044352766065,\n",
       " 9.885255492503298e-05,\n",
       " 7.655490017266509e-05,\n",
       " 0.0007305746286631054,\n",
       " 9.885255492503298e-05]"
      ]
     },
     "execution_count": 54,
     "metadata": {},
     "output_type": "execute_result"
    }
   ],
   "source": [
    "minpairwise_dists"
   ]
  },
  {
   "cell_type": "code",
   "execution_count": 37,
   "metadata": {},
   "outputs": [
    {
     "data": {
      "text/plain": [
       "7.5438505954261714e-06"
      ]
     },
     "execution_count": 37,
     "metadata": {},
     "output_type": "execute_result"
    }
   ],
   "source": [
    "min(pairwise_dists)"
   ]
  },
  {
   "cell_type": "code",
   "execution_count": 28,
   "metadata": {},
   "outputs": [
    {
     "data": {
      "text/plain": [
       "7.5438505954261714e-06"
      ]
     },
     "execution_count": 28,
     "metadata": {},
     "output_type": "execute_result"
    }
   ],
   "source": [
    "min(pairwise_dists)"
   ]
  },
  {
   "cell_type": "code",
   "execution_count": 29,
   "metadata": {},
   "outputs": [
    {
     "data": {
      "text/plain": [
       "(2, (106, 2, 5.088622347881877e-05))"
      ]
     },
     "execution_count": 29,
     "metadata": {},
     "output_type": "execute_result"
    }
   ],
   "source": [
    "compute_label([6.0, 3.1, 5.5, 2.0])"
   ]
  },
  {
   "cell_type": "code",
   "execution_count": 30,
   "metadata": {},
   "outputs": [
    {
     "data": {
      "text/plain": [
       "(0, (23, 0, 0.0027356468483812346))"
      ]
     },
     "execution_count": 30,
     "metadata": {},
     "output_type": "execute_result"
    }
   ],
   "source": [
    "compute_label([5.0, 3.1, 2.1, 0.6])"
   ]
  },
  {
   "cell_type": "code",
   "execution_count": 31,
   "metadata": {},
   "outputs": [
    {
     "data": {
      "text/plain": [
       "(1, (98, 1, 0.011461069251532008))"
      ]
     },
     "execution_count": 31,
     "metadata": {},
     "output_type": "execute_result"
    }
   ],
   "source": [
    "compute_label([5.0, 3.1, 2.4, 1.6])"
   ]
  },
  {
   "cell_type": "code",
   "execution_count": 48,
   "metadata": {},
   "outputs": [
    {
     "data": {
      "text/plain": [
       "(1, (98, 1, 0.011461069251532008))"
      ]
     },
     "execution_count": 48,
     "metadata": {},
     "output_type": "execute_result"
    }
   ],
   "source": [
    "compute_label([5.0, 3.1, 2.4, 1.6])"
   ]
  },
  {
   "cell_type": "code",
   "execution_count": 38,
   "metadata": {},
   "outputs": [
    {
     "data": {
      "text/plain": [
       "data      [5.9, 3.2, 4.8, 1.8]\n",
       "target                       1\n",
       "Name: 70, dtype: object"
      ]
     },
     "execution_count": 38,
     "metadata": {},
     "output_type": "execute_result"
    }
   ],
   "source": [
    "df.iloc[70]"
   ]
  },
  {
   "cell_type": "code",
   "execution_count": 1,
   "metadata": {},
   "outputs": [],
   "source": [
    "import torch"
   ]
  },
  {
   "cell_type": "code",
   "execution_count": 3,
   "metadata": {},
   "outputs": [],
   "source": [
    "tensor = torch.LongTensor(\n",
    "    [\n",
    "        [\n",
    "            [1, 2, 3],\n",
    "            [4, 5, 6]\n",
    "        ],\n",
    "        [\n",
    "            [7, 8, 9],\n",
    "            [10, 11, 12]\n",
    "        ]\n",
    "    ]\n",
    ")"
   ]
  },
  {
   "cell_type": "code",
   "execution_count": 6,
   "metadata": {},
   "outputs": [
    {
     "data": {
      "text/plain": [
       "tensor([[[ 1,  2,  3],\n",
       "         [ 4,  5,  6]],\n",
       "\n",
       "        [[ 7,  8,  9],\n",
       "         [10, 11, 12]]])"
      ]
     },
     "execution_count": 6,
     "metadata": {},
     "output_type": "execute_result"
    }
   ],
   "source": [
    "tensor"
   ]
  },
  {
   "cell_type": "code",
   "execution_count": 18,
   "metadata": {},
   "outputs": [
    {
     "data": {
      "text/plain": [
       "tensor([[ 1,  2,  3],\n",
       "        [ 4,  5,  6],\n",
       "        [ 7,  8,  9],\n",
       "        [10, 11, 12]])"
      ]
     },
     "execution_count": 18,
     "metadata": {},
     "output_type": "execute_result"
    }
   ],
   "source": [
    "tensor.flatten(0, 1)"
   ]
  }
 ],
 "metadata": {
  "interpreter": {
   "hash": "1bd3c55920bbe0d32c90842d61481cbcc95aaecf87c3e893d13a249a55a9c3e4"
  },
  "kernelspec": {
   "display_name": "Python 3.8.8 64-bit ('base': conda)",
   "language": "python",
   "name": "python3"
  },
  "language_info": {
   "codemirror_mode": {
    "name": "ipython",
    "version": 3
   },
   "file_extension": ".py",
   "mimetype": "text/x-python",
   "name": "python",
   "nbconvert_exporter": "python",
   "pygments_lexer": "ipython3",
   "version": "3.7.11"
  },
  "orig_nbformat": 4
 },
 "nbformat": 4,
 "nbformat_minor": 2
}
