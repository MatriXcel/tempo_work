{
 "cells": [
  {
   "cell_type": "code",
   "execution_count": 55,
   "metadata": {},
   "outputs": [],
   "source": [
    "from netCDF4 import Dataset\n",
    "import matplotlib.pyplot as plt \n",
    "import cartopy.crs as ccrs\n",
    "import matplotlib.ticker as mticker\n",
    "import numpy as np\n",
    "from cartopy.mpl.gridliner import LONGITUDE_FORMATTER, LATITUDE_FORMATTER"
   ]
  },
  {
   "cell_type": "code",
   "execution_count": 62,
   "metadata": {},
   "outputs": [
    {
     "name": "stdout",
     "output_type": "stream",
     "text": [
      "<class 'netCDF4._netCDF4.Group'>\n",
      "group /Profile:\n",
      "    dimensions(sizes): \n",
      "    variables(dimensions): float32 AirPartialColumn(lmx, jmx, imx), float32 N2_GasMixingRatio(lmx, jmx, imx), float32 O2_GasMixingRatio(lmx, jmx, imx), float32 Ar_GasMixingRatio(lmx, jmx, imx), float32 CO2_GasMixingRatio(lmx, jmx, imx), float32 O3_GasMixingRatio(lmx, jmx, imx), float32 NO2_GasMixingRatio(lmx, jmx, imx), float32 HCHO_GasMixingRatio(lmx, jmx, imx), float32 BrO_GasMixingRatio(lmx, jmx, imx), float32 GLYX_GasMixingRatio(lmx, jmx, imx), float32 SO2_GasMixingRatio(lmx, jmx, imx), float32 H2O_GasMixingRatio(lmx, jmx, imx)\n",
      "    groups: \n"
     ]
    },
    {
     "name": "stderr",
     "output_type": "stream",
     "text": [
      "C:\\Users\\wasii\\AppData\\Local\\Temp/ipykernel_23704/1734473115.py:61: UserWarning: WARNING: valid_min not used since it\n",
      "cannot be safely cast to variable data type\n",
      "  hcho_gas_profile = hcho_src['true_quantities']['gas_profile'][:]\n",
      "C:\\Users\\wasii\\AppData\\Local\\Temp/ipykernel_23704/1734473115.py:61: UserWarning: WARNING: valid_max not used since it\n",
      "cannot be safely cast to variable data type\n",
      "  hcho_gas_profile = hcho_src['true_quantities']['gas_profile'][:]\n"
     ]
    }
   ],
   "source": [
    "# Define path to netCDF file to open and read\n",
    "hcho_fp = './TEMPO_20130704_17h_LA1_HCHO.nc'\n",
    "o3_fp = './TEMPO_20130704_17h_LA1_O3.nc'\n",
    "la_rtm_fp = './TEMPO_20130704_17h_LA1_rtm.nc'\n",
    "\n",
    "# Open the file. I like to do it using with to guarantee\n",
    "# that it will be closed after we are done reading\n",
    "# netCDF files are organized in group (which can have subgroups)\n",
    "# and data fields. Each group or data field can have attributes.\n",
    "# The file as a whole can also have attributes that in this case\n",
    "# are called global attributes. Following this example and reading\n",
    "# https://unidata.github.io/netcdf4-python/ you should get some\n",
    "# familiarity about how to work with them\n",
    "with Dataset(hcho_fp,'r') as hcho_src, Dataset(o3_fp, 'r') as o3_src, Dataset(la_rtm_fp) as la_src:\n",
    "    # Read geolocation variables\n",
    "    common_src = hcho_src\n",
    "\n",
    "\n",
    "    lat = common_src['geolocation']['latitude'][:]\n",
    "    lon = common_src['geolocation']['longitude'][:]\n",
    "    terrain_height = common_src['geolocation']['terrain_height'][:]\n",
    "   \n",
    "    solar_zenith_angle = common_src['geolocation']['solar_zenith_angle'][:]\n",
    "    viewing_zenith_angle = common_src['geolocation']['viewing_zenith_angle'][:]\n",
    "    relative_azimuth_angle = common_src['geolocation']['relative_azimuth_angle'][:]\n",
    "    \n",
    "    surface_pressure = common_src['geolocation']['surface_pressure'][:]\n",
    "    tropopause_pressure = common_src['geolocation']['tropopause_pressure'][:]\n",
    "\n",
    "    albedo = common_src['support_data']['albedo'][:]\n",
    "\n",
    "    # hcho_gas_profile = hcho_src['support_data']['gas_profile'][:]\n",
    "    # o3_gas_profile = o3_src['support_data']['gas_profile'][:]\n",
    "    air_partial_col = la_src['Profile']['AirPartialColumn'][:]\n",
    "\n",
    "\n",
    "    Ar_gas_mixing_ratio = la_src['Profile']['Ar_GasMixingRatio'][:]\n",
    "    BrO_gas_mixing_ratio = la_src['Profile']['BrO_GasMixingRatio'][:]\n",
    "    CO2_gas_mixing_ratio = la_src['Profile']['CO2_GasMixingRatio'][:]\n",
    "    GLYX_gas_mixing_ratio = la_src['Profile']['GLYX_GasMixingRatio'][:]\n",
    "    H2O_gas_mixing_ratio = la_src['Profile']['H2O_GasMixingRatio'][:]\n",
    "    HCHO_gas_mixing_ratio = la_src['Profile']['HCHO_GasMixingRatio'][:]\n",
    "    N2_gas_mixing_ratio = la_src['Profile']['N2_GasMixingRatio'][:]\n",
    "    NO2_gas_mixing_ratio = la_src['Profile']['NO2_GasMixingRatio'][:]\n",
    "    O2_gas_mixing_ratio = la_src['Profile']['O2_GasMixingRatio'][:]\n",
    "    O3_gas_mixing_ratio = la_src['Profile']['O3_GasMixingRatio'][:]\n",
    "    SO2_gas_mixing_ratio = la_src['Profile']['SO2_GasMixingRatio'][:]\n",
    "\n",
    "    Ar_amf = la_src['RTM_Band1']['Ar_AMF'][:]\n",
    "    BrO_amf = la_src['RTM_Band1']['BrO_AMF'][:]\n",
    "    CO2_amf = la_src['RTM_Band1']['CO2_AMF'][:]\n",
    "    GLYX_amf = la_src['RTM_Band1']['GLYX_AMF'][:]\n",
    "    H2O_amf = la_src['RTM_Band1']['H2O_AMF'][:]\n",
    "    HCHO_amf = la_src['RTM_Band1']['HCHO_AMF'][:]\n",
    "    N2_amf = la_src['RTM_Band1']['N2_AMF'][:]\n",
    "    NO2_amf = la_src['RTM_Band1']['NO2_AMF'][:]\n",
    "    O2_amf = la_src['RTM_Band1']['O2_AMF'][:]\n",
    "    O3_amf = la_src['RTM_Band1']['O3_AMF'][:]\n",
    "    SO2_amf = la_src['RTM_Band1']['SO2_AMF'][:]\n",
    "\n",
    "    hcho_gas_profile = hcho_src['true_quantities']['gas_profile'][:]\n",
    "    \n",
    "    # hcho_col = hcho_src['product']['column_amount'][:]\n",
    "    # o3_col = o3_src['product']['column_amount'][:]\n",
    "\n",
    "    # amf_g = common_src['support_data']['amf_geometric'][:]\n",
    "    # albedo = common_src['support_data']['albedo'][:]\n",
    "\n",
    "    # hcho_vert_col = amf_g.filled(amf_g.mean()) * hcho_col\n",
    "    # o3_vert_col = amf_g.filled(amf_g.mean()) * o3_col\n"
   ]
  },
  {
   "cell_type": "code",
   "execution_count": 60,
   "metadata": {},
   "outputs": [
    {
     "ename": "RuntimeError",
     "evalue": "NetCDF: Not a valid ID",
     "output_type": "error",
     "traceback": [
      "\u001b[1;31m---------------------------------------------------------------------------\u001b[0m",
      "\u001b[1;31mRuntimeError\u001b[0m                              Traceback (most recent call last)",
      "\u001b[1;32m~\\anaconda3\\envs\\tempo_env\\lib\\site-packages\\IPython\\core\\formatters.py\u001b[0m in \u001b[0;36m__call__\u001b[1;34m(self, obj)\u001b[0m\n\u001b[0;32m    700\u001b[0m                 \u001b[0mtype_pprinters\u001b[0m\u001b[1;33m=\u001b[0m\u001b[0mself\u001b[0m\u001b[1;33m.\u001b[0m\u001b[0mtype_printers\u001b[0m\u001b[1;33m,\u001b[0m\u001b[1;33m\u001b[0m\u001b[1;33m\u001b[0m\u001b[0m\n\u001b[0;32m    701\u001b[0m                 deferred_pprinters=self.deferred_printers)\n\u001b[1;32m--> 702\u001b[1;33m             \u001b[0mprinter\u001b[0m\u001b[1;33m.\u001b[0m\u001b[0mpretty\u001b[0m\u001b[1;33m(\u001b[0m\u001b[0mobj\u001b[0m\u001b[1;33m)\u001b[0m\u001b[1;33m\u001b[0m\u001b[1;33m\u001b[0m\u001b[0m\n\u001b[0m\u001b[0;32m    703\u001b[0m             \u001b[0mprinter\u001b[0m\u001b[1;33m.\u001b[0m\u001b[0mflush\u001b[0m\u001b[1;33m(\u001b[0m\u001b[1;33m)\u001b[0m\u001b[1;33m\u001b[0m\u001b[1;33m\u001b[0m\u001b[0m\n\u001b[0;32m    704\u001b[0m             \u001b[1;32mreturn\u001b[0m \u001b[0mstream\u001b[0m\u001b[1;33m.\u001b[0m\u001b[0mgetvalue\u001b[0m\u001b[1;33m(\u001b[0m\u001b[1;33m)\u001b[0m\u001b[1;33m\u001b[0m\u001b[1;33m\u001b[0m\u001b[0m\n",
      "\u001b[1;32m~\\anaconda3\\envs\\tempo_env\\lib\\site-packages\\IPython\\lib\\pretty.py\u001b[0m in \u001b[0;36mpretty\u001b[1;34m(self, obj)\u001b[0m\n\u001b[0;32m    392\u001b[0m                         \u001b[1;32mif\u001b[0m \u001b[0mcls\u001b[0m \u001b[1;32mis\u001b[0m \u001b[1;32mnot\u001b[0m \u001b[0mobject\u001b[0m\u001b[0;31m \u001b[0m\u001b[0;31m\\\u001b[0m\u001b[1;33m\u001b[0m\u001b[1;33m\u001b[0m\u001b[0m\n\u001b[0;32m    393\u001b[0m                                 \u001b[1;32mand\u001b[0m \u001b[0mcallable\u001b[0m\u001b[1;33m(\u001b[0m\u001b[0mcls\u001b[0m\u001b[1;33m.\u001b[0m\u001b[0m__dict__\u001b[0m\u001b[1;33m.\u001b[0m\u001b[0mget\u001b[0m\u001b[1;33m(\u001b[0m\u001b[1;34m'__repr__'\u001b[0m\u001b[1;33m)\u001b[0m\u001b[1;33m)\u001b[0m\u001b[1;33m:\u001b[0m\u001b[1;33m\u001b[0m\u001b[1;33m\u001b[0m\u001b[0m\n\u001b[1;32m--> 394\u001b[1;33m                             \u001b[1;32mreturn\u001b[0m \u001b[0m_repr_pprint\u001b[0m\u001b[1;33m(\u001b[0m\u001b[0mobj\u001b[0m\u001b[1;33m,\u001b[0m \u001b[0mself\u001b[0m\u001b[1;33m,\u001b[0m \u001b[0mcycle\u001b[0m\u001b[1;33m)\u001b[0m\u001b[1;33m\u001b[0m\u001b[1;33m\u001b[0m\u001b[0m\n\u001b[0m\u001b[0;32m    395\u001b[0m \u001b[1;33m\u001b[0m\u001b[0m\n\u001b[0;32m    396\u001b[0m             \u001b[1;32mreturn\u001b[0m \u001b[0m_default_pprint\u001b[0m\u001b[1;33m(\u001b[0m\u001b[0mobj\u001b[0m\u001b[1;33m,\u001b[0m \u001b[0mself\u001b[0m\u001b[1;33m,\u001b[0m \u001b[0mcycle\u001b[0m\u001b[1;33m)\u001b[0m\u001b[1;33m\u001b[0m\u001b[1;33m\u001b[0m\u001b[0m\n",
      "\u001b[1;32m~\\anaconda3\\envs\\tempo_env\\lib\\site-packages\\IPython\\lib\\pretty.py\u001b[0m in \u001b[0;36m_repr_pprint\u001b[1;34m(obj, p, cycle)\u001b[0m\n\u001b[0;32m    698\u001b[0m     \u001b[1;34m\"\"\"A pprint that just redirects to the normal repr function.\"\"\"\u001b[0m\u001b[1;33m\u001b[0m\u001b[1;33m\u001b[0m\u001b[0m\n\u001b[0;32m    699\u001b[0m     \u001b[1;31m# Find newlines and replace them with p.break_()\u001b[0m\u001b[1;33m\u001b[0m\u001b[1;33m\u001b[0m\u001b[0m\n\u001b[1;32m--> 700\u001b[1;33m     \u001b[0moutput\u001b[0m \u001b[1;33m=\u001b[0m \u001b[0mrepr\u001b[0m\u001b[1;33m(\u001b[0m\u001b[0mobj\u001b[0m\u001b[1;33m)\u001b[0m\u001b[1;33m\u001b[0m\u001b[1;33m\u001b[0m\u001b[0m\n\u001b[0m\u001b[0;32m    701\u001b[0m     \u001b[0mlines\u001b[0m \u001b[1;33m=\u001b[0m \u001b[0moutput\u001b[0m\u001b[1;33m.\u001b[0m\u001b[0msplitlines\u001b[0m\u001b[1;33m(\u001b[0m\u001b[1;33m)\u001b[0m\u001b[1;33m\u001b[0m\u001b[1;33m\u001b[0m\u001b[0m\n\u001b[0;32m    702\u001b[0m     \u001b[1;32mwith\u001b[0m \u001b[0mp\u001b[0m\u001b[1;33m.\u001b[0m\u001b[0mgroup\u001b[0m\u001b[1;33m(\u001b[0m\u001b[1;33m)\u001b[0m\u001b[1;33m:\u001b[0m\u001b[1;33m\u001b[0m\u001b[1;33m\u001b[0m\u001b[0m\n",
      "\u001b[1;32msrc\\netCDF4\\_netCDF4.pyx\u001b[0m in \u001b[0;36mnetCDF4._netCDF4.Dataset.__repr__\u001b[1;34m()\u001b[0m\n",
      "\u001b[1;32msrc\\netCDF4\\_netCDF4.pyx\u001b[0m in \u001b[0;36mnetCDF4._netCDF4.Dataset.__unicode__\u001b[1;34m()\u001b[0m\n",
      "\u001b[1;32msrc\\netCDF4\\_netCDF4.pyx\u001b[0m in \u001b[0;36mnetCDF4._netCDF4.Variable.dimensions.__get__\u001b[1;34m()\u001b[0m\n",
      "\u001b[1;32msrc\\netCDF4\\_netCDF4.pyx\u001b[0m in \u001b[0;36mnetCDF4._netCDF4.Variable._getdims\u001b[1;34m()\u001b[0m\n",
      "\u001b[1;32msrc\\netCDF4\\_netCDF4.pyx\u001b[0m in \u001b[0;36mnetCDF4._netCDF4._ensure_nc_success\u001b[1;34m()\u001b[0m\n",
      "\u001b[1;31mRuntimeError\u001b[0m: NetCDF: Not a valid ID"
     ]
    }
   ],
   "source": []
  },
  {
   "cell_type": "code",
   "execution_count": 3,
   "metadata": {},
   "outputs": [
    {
     "data": {
      "text/plain": [
       "(20, 20, 61)"
      ]
     },
     "execution_count": 3,
     "metadata": {},
     "output_type": "execute_result"
    }
   ],
   "source": [
    "Ar_gas_mixing_ratio.shape"
   ]
  },
  {
   "cell_type": "code",
   "execution_count": 4,
   "metadata": {},
   "outputs": [],
   "source": [
    "def norm_val(val):\n",
    "    return (val - val.mean())/val.std()\n"
   ]
  },
  {
   "cell_type": "code",
   "execution_count": 5,
   "metadata": {},
   "outputs": [
    {
     "data": {
      "text/plain": [
       "(20, 20, 61)"
      ]
     },
     "execution_count": 5,
     "metadata": {},
     "output_type": "execute_result"
    }
   ],
   "source": [
    "Ar_gas_mixing_ratio.shape"
   ]
  },
  {
   "cell_type": "code",
   "execution_count": 6,
   "metadata": {},
   "outputs": [],
   "source": [
    "Ar_slant_col = np.sum(Ar_gas_mixing_ratio * air_partial_col, axis=0) * Ar_amf\n",
    "BrO_slant_col = np.sum(BrO_gas_mixing_ratio * air_partial_col, axis=0) * BrO_amf\n",
    "GLYX_slant_col = np.sum(GLYX_gas_mixing_ratio * air_partial_col, axis=0) * GLYX_amf\n",
    "H2O_slant_col = np.sum(H2O_gas_mixing_ratio * air_partial_col, axis=0) * H2O_amf\n",
    "HCHO_slant_col = np.sum(HCHO_gas_mixing_ratio * air_partial_col, axis=0) * HCHO_amf\n",
    "N2_slant_col = np.sum(N2_gas_mixing_ratio * air_partial_col, axis=0) * N2_amf\n",
    "NO2_slant_col = np.sum(NO2_gas_mixing_ratio * air_partial_col, axis=0) * NO2_amf\n",
    "O2_slant_col = np.sum(O2_gas_mixing_ratio * air_partial_col, axis=0) * O2_amf\n",
    "O3_slant_col = np.sum(O3_gas_mixing_ratio * air_partial_col, axis=0) * O3_amf\n",
    "SO2_slant_col = np.sum(SO2_gas_mixing_ratio * air_partial_col, axis=0) * SO2_amf"
   ]
  },
  {
   "cell_type": "code",
   "execution_count": 7,
   "metadata": {},
   "outputs": [
    {
     "data": {
      "text/plain": [
       "1.1178716e+16"
      ]
     },
     "execution_count": 7,
     "metadata": {},
     "output_type": "execute_result"
    }
   ],
   "source": [
    "HCHO_slant_col.mean()"
   ]
  },
  {
   "cell_type": "code",
   "execution_count": 8,
   "metadata": {},
   "outputs": [
    {
     "data": {
      "text/plain": [
       "1.3110776e+23"
      ]
     },
     "execution_count": 8,
     "metadata": {},
     "output_type": "execute_result"
    }
   ],
   "source": [
    "H2O_slant_col.mean()"
   ]
  },
  {
   "cell_type": "code",
   "execution_count": 9,
   "metadata": {},
   "outputs": [
    {
     "data": {
      "text/plain": [
       "(20, 20, 61)"
      ]
     },
     "execution_count": 9,
     "metadata": {},
     "output_type": "execute_result"
    }
   ],
   "source": [
    "hcho_gas_profile.shape"
   ]
  },
  {
   "cell_type": "code",
   "execution_count": 10,
   "metadata": {},
   "outputs": [],
   "source": [
    "transform_func = np.log"
   ]
  },
  {
   "cell_type": "code",
   "execution_count": 11,
   "metadata": {},
   "outputs": [
    {
     "data": {
      "text/plain": [
       "139.96584"
      ]
     },
     "execution_count": 11,
     "metadata": {},
     "output_type": "execute_result"
    }
   ],
   "source": [
    "np.min(tropopause_pressure)"
   ]
  },
  {
   "cell_type": "code",
   "execution_count": 12,
   "metadata": {},
   "outputs": [
    {
     "data": {
      "text/plain": [
       "(array([  5.,  12.,  30.,  49.,  46.,  49.,  80., 123., 200., 626.]),\n",
       " array([3.0058296e+23, 3.0640164e+23, 3.1222037e+23, 3.1803909e+23,\n",
       "        3.2385778e+23, 3.2967646e+23, 3.3549519e+23, 3.4131391e+23,\n",
       "        3.4713260e+23, 3.5295128e+23, 3.5877000e+23], dtype=float32),\n",
       " <BarContainer object of 10 artists>)"
      ]
     },
     "execution_count": 12,
     "metadata": {},
     "output_type": "execute_result"
    },
    {
     "data": {
      "image/png": "[encoded data removed]",
      "text/plain": [
       "<Figure size 432x288 with 1 Axes>"
      ]
     },
     "metadata": {
      "needs_background": "light"
     },
     "output_type": "display_data"
    }
   ],
   "source": [
    "plt.hist(Ar_slant_col[0].flatten())"
   ]
  },
  {
   "cell_type": "code",
   "execution_count": 83,
   "metadata": {},
   "outputs": [
    {
     "data": {
      "text/plain": [
       "(array([  2.,   0.,   1.,   1.,   1.,   1.,   2.,   1.,   4.,   4.,   9.,\n",
       "          5.,   5.,   6.,  10.,   6.,  15.,  11.,   7.,  10.,   9.,  11.,\n",
       "          8.,   8.,  13.,   2.,   7.,  12.,   8.,   8.,  10.,   9.,  12.,\n",
       "         15.,  13.,  18.,  21.,  26.,  38.,  20.,  33.,  16.,  20.,  13.,\n",
       "         18.,  34.,  58.,  50., 144., 465.]),\n",
       " array([ 820.4017 ,  824.094  ,  827.78625,  831.4786 ,  835.17084,\n",
       "         838.86316,  842.5555 ,  846.24774,  849.94006,  853.6324 ,\n",
       "         857.32465,  861.01697,  864.7092 ,  868.40155,  872.0939 ,\n",
       "         875.78613,  879.47845,  883.1708 ,  886.86304,  890.55536,\n",
       "         894.2476 ,  897.93994,  901.63226,  905.3245 ,  909.01685,\n",
       "         912.7091 ,  916.4014 ,  920.09375,  923.786  ,  927.47833,\n",
       "         931.17065,  934.8629 ,  938.55524,  942.2475 ,  945.9398 ,\n",
       "         949.63214,  953.3244 ,  957.0167 ,  960.70905,  964.4013 ,\n",
       "         968.0936 ,  971.7859 ,  975.4782 ,  979.17053,  982.8628 ,\n",
       "         986.5551 ,  990.24744,  993.9397 ,  997.632  , 1001.3243 ,\n",
       "        1005.0166 ], dtype=float32),\n",
       " <BarContainer object of 50 artists>)"
      ]
     },
     "execution_count": 83,
     "metadata": {},
     "output_type": "execute_result"
    },
    {
     "data": {
      "image/png": "[encoded data removed]",
      "text/plain": [
       "<Figure size 432x288 with 1 Axes>"
      ]
     },
     "metadata": {
      "needs_background": "light"
     },
     "output_type": "display_data"
    }
   ],
   "source": [
    "plt.hist(surface_pressure.flatten(), bins=50)"
   ]
  },
  {
   "cell_type": "code",
   "execution_count": 82,
   "metadata": {},
   "outputs": [
    {
     "data": {
      "text/plain": [
       "(array([  2.,   0.,   1.,   1.,   0.,   1.,   1.,   2.,   3.,   2.,   6.,\n",
       "          7.,   5.,   5.,   6.,  10.,   6.,  13.,  10.,   8.,   6.,  12.,\n",
       "         12.,   7.,   8.,  12.,   6.,   3.,  16.,   7.,   8.,  11.,   6.,\n",
       "         13.,  16.,  14.,  19.,  21.,  26.,  42.,  23.,  30.,  16.,  19.,\n",
       "         19.,  30.,  54.,  57., 125., 493.]),\n",
       " array([6.709794 , 6.7138534, 6.7179127, 6.721972 , 6.7260313, 6.7300906,\n",
       "        6.73415  , 6.7382092, 6.7422686, 6.746328 , 6.750387 , 6.7544465,\n",
       "        6.758506 , 6.762565 , 6.7666245, 6.770684 , 6.774743 , 6.7788024,\n",
       "        6.7828617, 6.786921 , 6.7909803, 6.7950397, 6.799099 , 6.8031583,\n",
       "        6.8072176, 6.8112764, 6.8153358, 6.819395 , 6.8234544, 6.8275137,\n",
       "        6.831573 , 6.8356323, 6.8396916, 6.843751 , 6.8478103, 6.8518696,\n",
       "        6.855929 , 6.859988 , 6.8640475, 6.868107 , 6.872166 , 6.8762255,\n",
       "        6.880285 , 6.884344 , 6.8884034, 6.8924627, 6.896522 , 6.9005814,\n",
       "        6.9046407, 6.9087   , 6.9127593], dtype=float32),\n",
       " <BarContainer object of 50 artists>)"
      ]
     },
     "execution_count": 82,
     "metadata": {},
     "output_type": "execute_result"
    },
    {
     "data": {
      "image/png": "[encoded data removed]",
      "text/plain": [
       "<Figure size 432x288 with 1 Axes>"
      ]
     },
     "metadata": {
      "needs_background": "light"
     },
     "output_type": "display_data"
    }
   ],
   "source": [
    "plt.hist(np.log(surface_pressure).flatten(), bins=50)"
   ]
  },
  {
   "cell_type": "code",
   "execution_count": 91,
   "metadata": {},
   "outputs": [
    {
     "data": {
      "text/plain": [
       "(array([  5.,  13.,  19.,  46.,  64., 234., 723.,  77.,  33.,   6.]),\n",
       " array([1.9074048e+19, 1.9328638e+19, 1.9583228e+19, 1.9837818e+19,\n",
       "        2.0092407e+19, 2.0346999e+19, 2.0601589e+19, 2.0856179e+19,\n",
       "        2.1110768e+19, 2.1365358e+19, 2.1619948e+19], dtype=float32),\n",
       " <BarContainer object of 10 artists>)"
      ]
     },
     "execution_count": 91,
     "metadata": {},
     "output_type": "execute_result"
    },
    {
     "data": {
      "image/png": "[encoded data removed]",
      "text/plain": [
       "<Figure size 432x288 with 1 Axes>"
      ]
     },
     "metadata": {
      "needs_background": "light"
     },
     "output_type": "display_data"
    }
   ],
   "source": [
    "plt.hist(O3_slant_col[0].flatten())"
   ]
  },
  {
   "cell_type": "code",
   "execution_count": 90,
   "metadata": {},
   "outputs": [
    {
     "data": {
      "text/plain": [
       "(array([  4.,  11.,  19.,  40.,  61.,  91., 857.,  90.,  41.,   6.]),\n",
       " array([44.39486 , 44.407387, 44.419918, 44.432446, 44.444977, 44.457504,\n",
       "        44.47003 , 44.482563, 44.49509 , 44.50762 , 44.52015 ],\n",
       "       dtype=float32),\n",
       " <BarContainer object of 10 artists>)"
      ]
     },
     "execution_count": 90,
     "metadata": {},
     "output_type": "execute_result"
    },
    {
     "data": {
      "image/png": "[encoded data removed]",
      "text/plain": [
       "<Figure size 432x288 with 1 Axes>"
      ]
     },
     "metadata": {
      "needs_background": "light"
     },
     "output_type": "display_data"
    }
   ],
   "source": [
    "plt.hist(np.log(O3_slant_col[0]).flatten())"
   ]
  },
  {
   "cell_type": "code",
   "execution_count": 84,
   "metadata": {},
   "outputs": [
    {
     "data": {
      "text/plain": [
       "0.0018812149663900316"
      ]
     },
     "execution_count": 84,
     "metadata": {},
     "output_type": "execute_result"
    }
   ],
   "source": [
    "np.log(surface_pressure).var()"
   ]
  },
  {
   "cell_type": "code",
   "execution_count": 88,
   "metadata": {},
   "outputs": [
    {
     "data": {
      "text/plain": [
       "7.4176836"
      ]
     },
     "execution_count": 88,
     "metadata": {},
     "output_type": "execute_result"
    }
   ],
   "source": [
    "np.log(surface_pressure.var())"
   ]
  },
  {
   "cell_type": "code",
   "execution_count": 13,
   "metadata": {},
   "outputs": [
    {
     "data": {
      "text/plain": [
       "(20, 61)"
      ]
     },
     "execution_count": 13,
     "metadata": {},
     "output_type": "execute_result"
    }
   ],
   "source": [
    "solar_zenith_angle.shape"
   ]
  },
  {
   "cell_type": "code",
   "execution_count": 18,
   "metadata": {},
   "outputs": [
    {
     "data": {
      "text/plain": [
       "<matplotlib.image.AxesImage at 0x261f1111ca0>"
      ]
     },
     "execution_count": 18,
     "metadata": {},
     "output_type": "execute_result"
    },
    {
     "data": {
      "image/png": "[encoded data removed]",
      "text/plain": [
       "<Figure size 432x288 with 1 Axes>"
      ]
     },
     "metadata": {
      "needs_background": "light"
     },
     "output_type": "display_data"
    }
   ],
   "source": [
    "plt.imshow(albedo)"
   ]
  },
  {
   "cell_type": "code",
   "execution_count": 14,
   "metadata": {},
   "outputs": [
    {
     "data": {
      "text/plain": [
       "<matplotlib.image.AxesImage at 0x261f0f68ca0>"
      ]
     },
     "execution_count": 14,
     "metadata": {},
     "output_type": "execute_result"
    },
    {
     "data": {
      "image/png": "[encoded data removed]",
      "text/plain": [
       "<Figure size 432x288 with 1 Axes>"
      ]
     },
     "metadata": {
      "needs_background": "light"
     },
     "output_type": "display_data"
    }
   ],
   "source": [
    "plt.imshow(H2O_slant_col[0])"
   ]
  },
  {
   "cell_type": "code",
   "execution_count": 15,
   "metadata": {},
   "outputs": [
    {
     "data": {
      "text/plain": [
       "<matplotlib.image.AxesImage at 0x261f0fd1d60>"
      ]
     },
     "execution_count": 15,
     "metadata": {},
     "output_type": "execute_result"
    },
    {
     "data": {
      "image/png": "[encoded data removed]",
      "text/plain": [
       "<Figure size 432x288 with 1 Axes>"
      ]
     },
     "metadata": {
      "needs_background": "light"
     },
     "output_type": "display_data"
    }
   ],
   "source": [
    "plt.imshow(HCHO_slant_col[0])"
   ]
  },
  {
   "cell_type": "code",
   "execution_count": 17,
   "metadata": {},
   "outputs": [
    {
     "data": {
      "text/plain": [
       "<matplotlib.image.AxesImage at 0x261f10a6ca0>"
      ]
     },
     "execution_count": 17,
     "metadata": {},
     "output_type": "execute_result"
    },
    {
     "data": {
      "image/png": "[encoded data removed]",
      "text/plain": [
       "<Figure size 432x288 with 1 Axes>"
      ]
     },
     "metadata": {
      "needs_background": "light"
     },
     "output_type": "display_data"
    }
   ],
   "source": [
    "plt.imshow(O3_slant_col[0])"
   ]
  },
  {
   "cell_type": "code",
   "execution_count": 13,
   "metadata": {},
   "outputs": [
    {
     "data": {
      "text/plain": [
       "<matplotlib.image.AxesImage at 0x261f0ef2df0>"
      ]
     },
     "execution_count": 13,
     "metadata": {},
     "output_type": "execute_result"
    },
    {
     "data": {
      "image/png": "[encoded data removed]",
      "text/plain": [
       "<Figure size 432x288 with 1 Axes>"
      ]
     },
     "metadata": {
      "needs_background": "light"
     },
     "output_type": "display_data"
    }
   ],
   "source": [
    "plt.imshow(NO2_slant_col[0])"
   ]
  },
  {
   "cell_type": "code",
   "execution_count": 16,
   "metadata": {},
   "outputs": [
    {
     "data": {
      "text/plain": [
       "<matplotlib.image.AxesImage at 0x261f103bca0>"
      ]
     },
     "execution_count": 16,
     "metadata": {},
     "output_type": "execute_result"
    },
    {
     "data": {
      "image/png": "[encoded data removed]",
      "text/plain": [
       "<Figure size 432x288 with 1 Axes>"
      ]
     },
     "metadata": {
      "needs_background": "light"
     },
     "output_type": "display_data"
    }
   ],
   "source": [
    "plt.imshow(terrain_height)"
   ]
  },
  {
   "cell_type": "code",
   "execution_count": 12,
   "metadata": {},
   "outputs": [
    {
     "data": {
      "text/plain": [
       "<matplotlib.image.AxesImage at 0x261f0e8b6a0>"
      ]
     },
     "execution_count": 12,
     "metadata": {},
     "output_type": "execute_result"
    },
    {
     "data": {
      "image/png": "[encoded data removed]",
      "text/plain": [
       "<Figure size 432x288 with 1 Axes>"
      ]
     },
     "metadata": {
      "needs_background": "light"
     },
     "output_type": "display_data"
    }
   ],
   "source": [
    "plt.imshow(GLYX_slant_col[0])"
   ]
  },
  {
   "cell_type": "code",
   "execution_count": 8,
   "metadata": {},
   "outputs": [
    {
     "data": {
      "text/plain": [
       "<matplotlib.image.AxesImage at 0x26e1a2a8490>"
      ]
     },
     "execution_count": 8,
     "metadata": {},
     "output_type": "execute_result"
    },
    {
     "data": {
      "image/png": "[encoded data removed]",
      "text/plain": [
       "<Figure size 432x288 with 1 Axes>"
      ]
     },
     "metadata": {
      "needs_background": "light"
     },
     "output_type": "display_data"
    }
   ],
   "source": [
    "plt.imshow(surface_pressure)"
   ]
  },
  {
   "cell_type": "code",
   "execution_count": 7,
   "metadata": {},
   "outputs": [
    {
     "data": {
      "text/plain": [
       "<matplotlib.image.AxesImage at 0x26e19b28820>"
      ]
     },
     "execution_count": 7,
     "metadata": {},
     "output_type": "execute_result"
    },
    {
     "data": {
      "image/png": "[encoded data removed]",
      "text/plain": [
       "<Figure size 432x288 with 1 Axes>"
      ]
     },
     "metadata": {
      "needs_background": "light"
     },
     "output_type": "display_data"
    }
   ],
   "source": [
    "plt.imshow(O2_slant_col[0])"
   ]
  },
  {
   "cell_type": "code",
   "execution_count": 183,
   "metadata": {},
   "outputs": [
    {
     "data": {
      "text/plain": [
       "<matplotlib.image.AxesImage at 0x274da98ae50>"
      ]
     },
     "execution_count": 183,
     "metadata": {},
     "output_type": "execute_result"
    },
    {
     "data": {
      "image/png": "[encoded data removed]",
      "text/plain": [
       "<Figure size 432x288 with 1 Axes>"
      ]
     },
     "metadata": {
      "needs_background": "light"
     },
     "output_type": "display_data"
    }
   ],
   "source": [
    "plt.imshow(tropopause_pressure)"
   ]
  },
  {
   "cell_type": "code",
   "execution_count": 210,
   "metadata": {},
   "outputs": [
    {
     "data": {
      "text/plain": [
       "<matplotlib.image.AxesImage at 0x274daa914f0>"
      ]
     },
     "execution_count": 210,
     "metadata": {},
     "output_type": "execute_result"
    },
    {
     "data": {
      "image/png": "[encoded data removed]",
      "text/plain": [
       "<Figure size 432x288 with 1 Axes>"
      ]
     },
     "metadata": {
      "needs_background": "light"
     },
     "output_type": "display_data"
    }
   ],
   "source": [
    "plt.imshow(SO2_slant_col[0])"
   ]
  },
  {
   "cell_type": "code",
   "execution_count": 211,
   "metadata": {},
   "outputs": [
    {
     "data": {
      "text/plain": [
       "<matplotlib.image.AxesImage at 0x274daa88a30>"
      ]
     },
     "execution_count": 211,
     "metadata": {},
     "output_type": "execute_result"
    },
    {
     "data": {
      "image/png": "[encoded data removed]",
      "text/plain": [
       "<Figure size 432x288 with 1 Axes>"
      ]
     },
     "metadata": {
      "needs_background": "light"
     },
     "output_type": "display_data"
    }
   ],
   "source": [
    "plt.imshow(relative_azimuth_angle)"
   ]
  },
  {
   "cell_type": "code",
   "execution_count": 212,
   "metadata": {},
   "outputs": [
    {
     "data": {
      "text/plain": [
       "<matplotlib.image.AxesImage at 0x274da8329a0>"
      ]
     },
     "execution_count": 212,
     "metadata": {},
     "output_type": "execute_result"
    },
    {
     "data": {
      "image/png": "[encoded data removed]",
      "text/plain": [
       "<Figure size 432x288 with 1 Axes>"
      ]
     },
     "metadata": {
      "needs_background": "light"
     },
     "output_type": "display_data"
    }
   ],
   "source": [
    "plt.imshow(solar_zenith_angle)"
   ]
  },
  {
   "cell_type": "code",
   "execution_count": 48,
   "metadata": {},
   "outputs": [
    {
     "data": {
      "text/plain": [
       "<matplotlib.image.AxesImage at 0x1c2e4e37130>"
      ]
     },
     "execution_count": 48,
     "metadata": {},
     "output_type": "execute_result"
    },
    {
     "data": {
      "image/png": "[encoded data removed]",
      "text/plain": [
       "<Figure size 432x288 with 1 Axes>"
      ]
     },
     "metadata": {
      "needs_background": "light"
     },
     "output_type": "display_data"
    }
   ],
   "source": [
    "plt.imshow(albedo)"
   ]
  },
  {
   "cell_type": "code",
   "execution_count": 69,
   "metadata": {},
   "outputs": [
    {
     "data": {
      "text/plain": [
       "30.466194"
      ]
     },
     "execution_count": 69,
     "metadata": {},
     "output_type": "execute_result"
    }
   ],
   "source": [
    "solar_zenith_angle.max()"
   ]
  },
  {
   "cell_type": "code",
   "execution_count": 73,
   "metadata": {},
   "outputs": [
    {
     "data": {
      "text/plain": [
       "6.9127593"
      ]
     },
     "execution_count": 73,
     "metadata": {},
     "output_type": "execute_result"
    }
   ],
   "source": [
    "np.log(surface_pressure).max()"
   ]
  },
  {
   "cell_type": "code",
   "execution_count": 39,
   "metadata": {},
   "outputs": [],
   "source": [
    "feature_map = np.stack((\n",
    "    \n",
    "                        np.deg2rad(solar_zenith_angle), #normal\n",
    "                        np.deg2rad(viewing_zenith_angle), #normal\n",
    "                        np.deg2rad(relative_azimuth_angle), #normal\n",
    "                        surface_pressure,  #skewed\n",
    "                        #transform_func(tropopause_pressure), #skewed\n",
    "                        #terrain_height,   #skewed\n",
    "                        albedo,  #skewed\n",
    "                        \n",
    "                       #transform_func(Ar_slant_col[0]), #skewed\n",
    "                        #transform_func(BrO_slant_col[0]), #skewed\n",
    "                        #transform_func(GLYX_slant_col[0]), #skewed\n",
    "                        #transform_func(H2O_slant_col[0]), #skewed\n",
    "                        #transform_func(HCHO_slant_col[0]), #skewed\n",
    "                        #transform_func(N2_slant_col[0]), #skewe\n",
    "                        #transform_func(NO2_slant_col[0]), #skewed\n",
    "                        #transform_func(O2_slant_col[0]), #skewed\n",
    "                        transform_func(O3_slant_col[0]), #skewed\n",
    "                        #transform_func(SO2_slant_col[0]) #skewed\n",
    "                        ), axis=-1)"
   ]
  },
  {
   "cell_type": "code",
   "execution_count": null,
   "metadata": {},
   "outputs": [],
   "source": []
  },
  {
   "cell_type": "code",
   "execution_count": 242,
   "metadata": {},
   "outputs": [
    {
     "data": {
      "text/plain": [
       "(20, 61, 12)"
      ]
     },
     "execution_count": 242,
     "metadata": {},
     "output_type": "execute_result"
    }
   ],
   "source": [
    "feature_map.shape"
   ]
  },
  {
   "cell_type": "code",
   "execution_count": 243,
   "metadata": {},
   "outputs": [
    {
     "data": {
      "text/plain": [
       "masked_array(data=[],\n",
       "             mask=False,\n",
       "       fill_value=1e+20,\n",
       "            dtype=float32)"
      ]
     },
     "execution_count": 243,
     "metadata": {},
     "output_type": "execute_result"
    }
   ],
   "source": [
    "feature_map[np.isnan(feature_map)]"
   ]
  },
  {
   "cell_type": "code",
   "execution_count": 244,
   "metadata": {},
   "outputs": [],
   "source": [
    "np.save('feature_map.npy', feature_map.filled(np.nan))"
   ]
  },
  {
   "cell_type": "code",
   "execution_count": 245,
   "metadata": {},
   "outputs": [],
   "source": [
    "#pip install tqdm"
   ]
  },
  {
   "cell_type": "code",
   "execution_count": 17,
   "metadata": {},
   "outputs": [],
   "source": [
    "import torch"
   ]
  },
  {
   "cell_type": "code",
   "execution_count": 247,
   "metadata": {},
   "outputs": [
    {
     "data": {
      "text/plain": [
       "masked_array(\n",
       "  data=[[[ 0.5075072 ,  0.8497164 ,  0.5863175 , ..., 57.34129   ,\n",
       "          47.1342    , 32.90627   ],\n",
       "         [ 0.5076834 ,  0.85005563,  0.5859585 , ..., 57.341167  ,\n",
       "          47.13351   , 32.905453  ],\n",
       "         [ 0.5078601 ,  0.85039526,  0.5855995 , ..., 57.34121   ,\n",
       "          47.132946  , 32.893574  ],\n",
       "         ...,\n",
       "         [ 0.5181765 ,  0.8696946 ,  0.56562626, ..., 57.244373  ,\n",
       "          47.101177  , 32.709724  ],\n",
       "         [ 0.5183686 ,  0.8700446 ,  0.56527203, ..., 57.23533   ,\n",
       "          47.08942   , 32.69929   ],\n",
       "         [ 0.51856095,  0.87039477,  0.56491786, ..., 57.225033  ,\n",
       "          47.075294  , 32.68509   ]],\n",
       "\n",
       "        [[ 0.5081846 ,  0.8504134 ,  0.58573675, ..., 57.330273  ,\n",
       "          45.341373  , 33.820187  ],\n",
       "         [ 0.5083611 ,  0.8507529 ,  0.5853783 , ..., 57.330162  ,\n",
       "          45.341427  , 33.817734  ],\n",
       "         [ 0.5085376 ,  0.85109216,  0.5850202 , ..., 57.330204  ,\n",
       "          45.341698  , 33.805294  ],\n",
       "         ...,\n",
       "         [ 0.5188614 ,  0.87039536,  0.56508267, ..., 57.22999   ,\n",
       "          45.529068  , 33.529972  ],\n",
       "         [ 0.5190534 ,  0.87074524,  0.56472915, ..., 57.221043  ,\n",
       "          45.528316  , 33.512924  ],\n",
       "         [ 0.51924586,  0.87109536,  0.5643757 , ..., 57.212395  ,\n",
       "          45.52179   , 33.496174  ]],\n",
       "\n",
       "        [[ 0.5088629 ,  0.8511118 ,  0.58515614, ..., 57.329475  ,\n",
       "          43.379467  , 33.751514  ],\n",
       "         [ 0.5090392 ,  0.85145104,  0.5847986 , ..., 57.32942   ,\n",
       "          43.37877   , 33.747997  ],\n",
       "         [ 0.50921595,  0.85179055,  0.5844409 , ..., 57.329475  ,\n",
       "          43.377735  , 33.73558   ],\n",
       "         ...,\n",
       "         [ 0.5195469 ,  0.87109727,  0.5645394 , ..., 57.231617  ,\n",
       "          43.692196  , 33.77502   ],\n",
       "         [ 0.51973945,  0.87144756,  0.5641863 , ..., 57.223747  ,\n",
       "          43.695522  , 33.76964   ],\n",
       "         [ 0.5199321 ,  0.8717979 ,  0.5638334 , ..., 57.21608   ,\n",
       "          43.694626  , 33.760876  ]],\n",
       "\n",
       "        ...,\n",
       "\n",
       "        [[ 0.51913863,  0.8617603 ,  0.5764658 , ..., 57.337112  ,\n",
       "          42.479713  , 33.342773  ],\n",
       "         [ 0.5193174 ,  0.86210084,  0.5761176 , ..., 57.337     ,\n",
       "          42.475254  , 33.35923   ],\n",
       "         [ 0.51949614,  0.86244136,  0.57576954, ..., 57.337025  ,\n",
       "          42.470104  , 33.389618  ],\n",
       "         ...,\n",
       "         [ 0.52994335,  0.8818095 ,  0.5563934 , ..., 57.242973  ,\n",
       "          42.633785  , 35.096466  ],\n",
       "         [ 0.5301381 ,  0.8821611 ,  0.55604947, ..., 57.231586  ,\n",
       "          42.619545  , 35.08832   ],\n",
       "         [ 0.53033286,  0.88251257,  0.55570567, ..., 57.220436  ,\n",
       "          42.604088  , 35.066906  ]],\n",
       "\n",
       "        [[ 0.519831  ,  0.86248225,  0.5758875 , ..., 57.337597  ,\n",
       "          42.19804   , 34.671017  ],\n",
       "         [ 0.5200095 ,  0.8628224 ,  0.5755401 , ..., 57.33749   ,\n",
       "          42.199707  , 34.693394  ],\n",
       "         [ 0.5201884 ,  0.86316305,  0.57519275, ..., 57.33752   ,\n",
       "          42.20272   , 34.7276    ],\n",
       "         ...,\n",
       "         [ 0.53064406,  0.8825358 ,  0.5558508 , ..., 57.240185  ,\n",
       "          42.63794   , 35.20499   ],\n",
       "         [ 0.5308385 ,  0.8828871 ,  0.5555076 , ..., 57.229095  ,\n",
       "          42.625645  , 35.188988  ],\n",
       "         [ 0.53103346,  0.88323885,  0.5551644 , ..., 57.21889   ,\n",
       "          42.610756  , 35.165462  ]],\n",
       "\n",
       "        [[ 0.52052367,  0.863205  ,  0.57530963, ..., 57.339188  ,\n",
       "          42.19477   , 36.244423  ],\n",
       "         [ 0.5207024 ,  0.8635454 ,  0.57496285, ..., 57.33912   ,\n",
       "          42.19862   , 36.254894  ],\n",
       "         [ 0.5208816 ,  0.8638862 ,  0.5746161 , ..., 57.339184  ,\n",
       "          42.204014  , 36.269436  ],\n",
       "         ...,\n",
       "         [ 0.5313456 ,  0.88326365,  0.5553082 , ..., 57.238705  ,\n",
       "          42.61096   , 35.314     ],\n",
       "         [ 0.5315403 ,  0.8836151 ,  0.5549657 , ..., 57.228424  ,\n",
       "          42.609398  , 35.2722    ],\n",
       "         [ 0.5317354 ,  0.88396686,  0.554623  , ..., 57.217712  ,\n",
       "          42.600197  , 35.23961   ]]],\n",
       "  mask=False,\n",
       "  fill_value=1e+20,\n",
       "  dtype=float32)"
      ]
     },
     "execution_count": 247,
     "metadata": {},
     "output_type": "execute_result"
    }
   ],
   "source": [
    "feature_map"
   ]
  },
  {
   "cell_type": "code",
   "execution_count": 248,
   "metadata": {},
   "outputs": [
    {
     "data": {
      "text/plain": [
       "(20, 61, 12)"
      ]
     },
     "execution_count": 248,
     "metadata": {},
     "output_type": "execute_result"
    }
   ],
   "source": [
    "feature_map.shape"
   ]
  },
  {
   "cell_type": "code",
   "execution_count": 13,
   "metadata": {},
   "outputs": [],
   "source": [
    "import torch"
   ]
  },
  {
   "cell_type": "code",
   "execution_count": 19,
   "metadata": {},
   "outputs": [
    {
     "data": {
      "text/plain": [
       "<matplotlib.colorbar.Colorbar at 0x1c2e283ef10>"
      ]
     },
     "execution_count": 19,
     "metadata": {},
     "output_type": "execute_result"
    },
    {
     "data": {
      "image/png": "[encoded data removed]",
      "text/plain": [
       "<Figure size 432x288 with 2 Axes>"
      ]
     },
     "metadata": {
      "needs_background": "light"
     },
     "output_type": "display_data"
    }
   ],
   "source": [
    "plt.imshow(HCHO_amf[0])\n",
    "plt.colorbar()"
   ]
  },
  {
   "cell_type": "code",
   "execution_count": 69,
   "metadata": {},
   "outputs": [
    {
     "data": {
      "text/plain": [
       "(20, 61, 5)"
      ]
     },
     "execution_count": 69,
     "metadata": {},
     "output_type": "execute_result"
    }
   ],
   "source": [
    "feature_map.shape"
   ]
  },
  {
   "cell_type": "code",
   "execution_count": 40,
   "metadata": {},
   "outputs": [],
   "source": [
    "training_examples = torch.from_numpy(feature_map.reshape(feature_map.shape[0] * feature_map.shape[1], feature_map.shape[2]))\n",
    "HCHO_amf_labels = torch.from_numpy(HCHO_amf[0].reshape(HCHO_amf[0].shape[0] * HCHO_amf[0].shape[1]))"
   ]
  },
  {
   "cell_type": "code",
   "execution_count": null,
   "metadata": {},
   "outputs": [],
   "source": []
  },
  {
   "cell_type": "code",
   "execution_count": 251,
   "metadata": {},
   "outputs": [
    {
     "data": {
      "text/plain": [
       "torch.Size([1220, 12])"
      ]
     },
     "execution_count": 251,
     "metadata": {},
     "output_type": "execute_result"
    }
   ],
   "source": [
    "training_examples.shape"
   ]
  },
  {
   "cell_type": "code",
   "execution_count": 252,
   "metadata": {},
   "outputs": [
    {
     "data": {
      "text/plain": [
       "torch.Size([1220])"
      ]
     },
     "execution_count": 252,
     "metadata": {},
     "output_type": "execute_result"
    }
   ],
   "source": [
    "HCHO_amf_labels.shape"
   ]
  },
  {
   "cell_type": "code",
   "execution_count": 41,
   "metadata": {},
   "outputs": [],
   "source": [
    "from torch import utils\n",
    "\n",
    "learning_data = utils.data.TensorDataset(training_examples, HCHO_amf_labels)"
   ]
  },
  {
   "cell_type": "code",
   "execution_count": 92,
   "metadata": {},
   "outputs": [
    {
     "data": {
      "text/plain": [
       "<matplotlib.colorbar.Colorbar at 0x1c2e74ecb80>"
      ]
     },
     "execution_count": 92,
     "metadata": {},
     "output_type": "execute_result"
    },
    {
     "data": {
      "image/png": "[encoded data removed]",
      "text/plain": [
       "<Figure size 432x288 with 2 Axes>"
      ]
     },
     "metadata": {
      "needs_background": "light"
     },
     "output_type": "display_data"
    }
   ],
   "source": [
    "plt.imshow(learning_data.tensors[1].reshape(feature_map.shape[0], feature_map.shape[1]))\n",
    "plt.colorbar()"
   ]
  },
  {
   "cell_type": "code",
   "execution_count": 77,
   "metadata": {},
   "outputs": [
    {
     "data": {
      "text/plain": [
       "tensor([[5.0751e-01, 8.4972e-01, 5.8632e-01, 3.5000e-02, 4.4473e+01],\n",
       "        [5.0768e-01, 8.5006e-01, 5.8596e-01, 3.5000e-02, 4.4473e+01],\n",
       "        [5.0786e-01, 8.5040e-01, 5.8560e-01, 3.5000e-02, 4.4473e+01],\n",
       "        ...,\n",
       "        [5.3135e-01, 8.8326e-01, 5.5531e-01, 3.6000e-02, 4.4484e+01],\n",
       "        [5.3154e-01, 8.8362e-01, 5.5497e-01, 3.6000e-02, 4.4485e+01],\n",
       "        [5.3174e-01, 8.8397e-01, 5.5462e-01, 3.6000e-02, 4.4490e+01]],\n",
       "       dtype=torch.float64)"
      ]
     },
     "execution_count": 77,
     "metadata": {},
     "output_type": "execute_result"
    }
   ],
   "source": [
    "learning_data.tensors[0]"
   ]
  },
  {
   "cell_type": "code",
   "execution_count": 79,
   "metadata": {},
   "outputs": [
    {
     "data": {
      "text/plain": [
       "masked_array(\n",
       "  data=[[1.0450814 , 1.0450983 , 1.0411997 , ..., 0.8496789 , 0.8658302 ,\n",
       "         0.878637  ],\n",
       "        [1.0450863 , 1.0446106 , 1.0405581 , ..., 0.83714885, 0.8516038 ,\n",
       "         0.8664649 ],\n",
       "        [1.0482776 , 1.0478488 , 1.0440052 , ..., 0.8371913 , 0.85316426,\n",
       "         0.8690702 ],\n",
       "        ...,\n",
       "        [1.1472667 , 1.1450647 , 1.1429967 , ..., 0.8655295 , 0.85975575,\n",
       "         0.85754985],\n",
       "        [1.1476446 , 1.145896  , 1.1442746 , ..., 0.8552436 , 0.8511301 ,\n",
       "         0.85166895],\n",
       "        [1.1465105 , 1.1449561 , 1.1435293 , ..., 0.8487586 , 0.8479241 ,\n",
       "         0.8471286 ]],\n",
       "  mask=False,\n",
       "  fill_value=1e+20,\n",
       "  dtype=float32)"
      ]
     },
     "execution_count": 79,
     "metadata": {},
     "output_type": "execute_result"
    }
   ],
   "source": [
    "HCHO_amf[0]"
   ]
  },
  {
   "cell_type": "code",
   "execution_count": 78,
   "metadata": {},
   "outputs": [
    {
     "data": {
      "text/plain": [
       "tensor([1.0451, 1.0451, 1.0412,  ..., 0.8488, 0.8479, 0.8471])"
      ]
     },
     "execution_count": 78,
     "metadata": {},
     "output_type": "execute_result"
    }
   ],
   "source": [
    "learning_data.tensors[1]"
   ]
  },
  {
   "cell_type": "code",
   "execution_count": 16,
   "metadata": {},
   "outputs": [],
   "source": [
    "train_set, test_set = torch.utils.data.random_split(learning_data, [int(len(learning_data) * 0.8), int(len(learning_data) * 0.2)])"
   ]
  },
  {
   "cell_type": "code",
   "execution_count": 256,
   "metadata": {},
   "outputs": [
    {
     "data": {
      "text/plain": [
       "<torch.utils.data.dataset.Subset at 0x274dac1bd60>"
      ]
     },
     "execution_count": 256,
     "metadata": {},
     "output_type": "execute_result"
    }
   ],
   "source": [
    "train_set"
   ]
  },
  {
   "cell_type": "code",
   "execution_count": 257,
   "metadata": {},
   "outputs": [
    {
     "data": {
      "text/plain": [
       "tensor([1027,   31,  320,  119, 1090,  108,  353,  443,  708,  833,   72,   81,\n",
       "         414,   18,  695,   63,  132, 1032,  437,  957,  949,  942,    7, 1166,\n",
       "        1128,  718, 1093,  221,  690,  598,   16,  534, 1123,  509,  207,  849,\n",
       "         477,  660, 1145,  500,   25,  781, 1049,    8,  190,  894,  513,  591,\n",
       "        1198, 1047,  415,  358,  516, 1189,  705,   96, 1006,  765,  389,  940,\n",
       "        1008,  847,  809,  670,  919,  835,  456, 1174,  742,  370,  738,  181,\n",
       "         203,  156,  768,  202,  772,  852,  946, 1037,  200,  560,  554,  424,\n",
       "         827,  138,   74,  633,   20,  112,  910,  271,  326, 1107,  729,  154,\n",
       "         923,   39, 1150,  972,  925,  977,  484,  439, 1068,  622,  136,  661,\n",
       "         151,  837,  680,  995,  394, 1204,  515, 1103,  335,  349,  597,  233,\n",
       "          13,  684,  407,  611,  468,  551,  607,  255,  347, 1000,   57,  688,\n",
       "         297,   73,  629, 1199,  228, 1097,  139, 1044, 1002,  947,  717,   42,\n",
       "         252, 1212,  111,  702,  559,  282,  860,  247, 1003,  936, 1041,  167,\n",
       "        1138,  774,  293,  367, 1190, 1211,  354,  750,  371,  199,   52, 1045,\n",
       "         177,  218,  445,  411, 1210,  874,  991,  937,  647,  906, 1092,   49,\n",
       "         147,  265,  698,  941, 1110,  672,  974,  592,  735,  355,  357,  307,\n",
       "          45,  747,  333,  229, 1170,  396,  153,  238,  444,  864,  683,  976,\n",
       "         617,   54,  450,  820,  797,  209,   92,  741,  574,   67,  321,  850,\n",
       "         755,  296,  823,  137,  679,  306,  555,  953,  984,  762,  601,  780,\n",
       "         359,  352,  476,   55,  585,   59,  459,  616,   35,  887,  131,  596,\n",
       "         417,  588, 1072,  241,  636,  789,  425, 1116, 1180,  373, 1152,  757,\n",
       "         652,  885, 1208,  524,  805,  471,   19,  274,  178,  453,  890,  324,\n",
       "         971, 1194,  714,  123,  786,  562,   97,   21,  308,  998,  644,  599,\n",
       "         400,  689, 1019,  507,  662, 1063,  470,  117,    1,  169,  669,  250,\n",
       "         380, 1134, 1164,  939,  784,  341, 1058,  176, 1167,  390,  726,  792,\n",
       "        1124,  770, 1011,  351, 1155,  696,   68,  143,  189,  121,  206,  900,\n",
       "         422,  499,  787,  694,  145,  166,  262,  753,  508,  838,   38,  903,\n",
       "         256,   85,  152,  996, 1125,  242, 1153,  433, 1030,   62, 1089,  632,\n",
       "         292,   80,  886,  619,  113,   76,  814,   78, 1178,  795,  799,  655,\n",
       "         134,  491,  478,  142, 1192, 1169,  719,  482,  214, 1071,  676,  427,\n",
       "         568, 1185, 1157,  314,  649, 1187, 1029,  608,  280,  567,  512,  260,\n",
       "         720, 1111, 1069,  542,  106,  273,  236,  133,  816, 1205, 1024,  120,\n",
       "         160,  479,  339,  523,  485,  736,  505, 1099,  918,  115,  710,  873,\n",
       "         529,  930,  685, 1118,  536,  150, 1101,  385, 1137,  261,  889,  671,\n",
       "        1013,  621,  648,  374, 1078,  246,  130,  268,  668,  963, 1017,  483,\n",
       "         902,  193,  577,  819,  281,  759, 1066,  249,  844,  186, 1059,  664,\n",
       "         269,  435, 1102,   34,  183,  101,  416,  259,  999,  234,  609, 1057,\n",
       "         865,   95,   37, 1109, 1081,  909,  328,  875, 1025,    6,  754,  185,\n",
       "         948,  384,  304,  311,  627,  159,  985,  327,  807,  421,   50,  466,\n",
       "         932,  518,  146,  691,  537,  386, 1009,  801,  846, 1179, 1182,  546,\n",
       "         300,  388, 1158,  539,  798,  980,   46, 1077,   15, 1010,  950, 1046,\n",
       "         582,  578, 1073,  434,  514, 1201,  372,  244,  449,   36,  594,  426,\n",
       "        1074,  157, 1105,  815,  387,  744,   33,  506,  579,  428, 1062,  528,\n",
       "         637,  198, 1034,  451,  363,  284,  831,  164, 1043, 1162,  316,  610,\n",
       "         740,  197,  195,  440,  323,  361,  604,  917,  667,  116,  155,   94,\n",
       "        1087, 1147,  216,  481,  497, 1196, 1106,  863,  641,  968,  584,  235,\n",
       "         543,  474,  540,  751,  643,  565,  402,  266,  956,  446,  356,  707,\n",
       "        1156,   99,  693,  248,  606,  161, 1183,  839,  704,  966,  408,  171,\n",
       "         436, 1018,  851,  945,  758, 1200,  969,  475, 1079,  272,  572,   14,\n",
       "         412,  763,  700,  149,  172,  615,  639,  908,  896, 1202,  365,  760,\n",
       "         502,  723,  570,  678, 1038,  503,  128,  821,  826,  489,  915,  103,\n",
       "          22,  811,  550,  541, 1031,  423,  245,  263, 1113,  857,  105,  569,\n",
       "         687,   64, 1149,  646,  785,  883, 1209,  118,  158, 1091,   12,  642,\n",
       "         447,  803, 1108,  962, 1052,  804,  285,  552,  990,   65,  442,  418,\n",
       "         480,  724,  530,  989,  657, 1163,   89,   88,  958,    5, 1114,  715,\n",
       "         533, 1168, 1181, 1004,  978, 1088, 1015,   53,  913,  298,  725, 1007,\n",
       "          71,  746,  907,  369,  493,  790,  713,  549,  575,  286,  602,  842,\n",
       "        1055, 1214,  472,  853,  769,  179,   11,  535,  170,  677,  496, 1085,\n",
       "         301, 1131,  110,  532,  581, 1021,  141,  368,  631,  848,  618,  392,\n",
       "         313,  645,  223,  391, 1203,  204,  711,  346,  877,  231,  504,  866,\n",
       "         761,  452,  460,  776, 1172,   27,  196,  237,  558,  911, 1140,  686,\n",
       "        1064,    0,   98,  651,  931, 1176,  319,   17, 1054,  730,  173, 1219,\n",
       "         124,  381,  727, 1076,  420, 1161,    2, 1206,   28, 1148,  878,  486,\n",
       "         901,  135,  329,  674, 1117,  748,  813,  240,  635,  227,  126, 1033,\n",
       "        1177,  782,   86,  553,  716,  360,  665,  398,  938,   60,  312,  180,\n",
       "         462,  952,  964,  302,  275,  521,   48,  406,  737,  920,  322,  114,\n",
       "         771, 1080,  517,  332,  613,  531,   26,  884,  264,  527, 1040,  992,\n",
       "         624, 1095,  586,  829,  961,  162,  869,  122, 1070, 1042,  520,  997,\n",
       "         109, 1173, 1082,    9,  345,  970, 1159, 1129,  732,  495,  309,  929,\n",
       "         287,  859,  566,  951,  253,  379,  824,   23,  650,  573,   84,  739,\n",
       "        1023,  914, 1100,  431,  830,  401,  267,  778,  226, 1126,  561, 1216,\n",
       "         294,  722,  498,  881,  278,  788, 1020,  612,  376,  806,  706, 1014,\n",
       "         473, 1130,  822, 1127,  832,  766,  630,  593,  791,  666,  960,  703,\n",
       "          75,  571,   32,  276,  163, 1217,  315,  100,  165,    4,  794,  625,\n",
       "         935,  325,  403,  556, 1195,  409,   51,  501,  511,  522,  429,   90,\n",
       "         393,  344, 1028,  898,  576,  589,  225,   56,  222,  656,  213,  926,\n",
       "         600,  681,  174, 1048,  362, 1096,  927,  796,  399,  448, 1051,   44,\n",
       "         955,  211,  928,   43, 1197,  330, 1139,   77,  841,  232,  378,  856,\n",
       "         205,  469, 1193,  699,  912,  144,  366,  148,  882,  973,    3,  773,\n",
       "         547,  675,  834, 1121,  257,  318,  488,  102,  756,  697, 1160,  438,\n",
       "         812, 1005,  743,  217,  779,   47,  979,  802,  922,  187,  734,   82,\n",
       "        1136,  580,  965,   91])"
      ]
     },
     "execution_count": 257,
     "metadata": {},
     "output_type": "execute_result"
    }
   ],
   "source": [
    "torch.tensor(train_set.indices)"
   ]
  },
  {
   "cell_type": "code",
   "execution_count": 258,
   "metadata": {},
   "outputs": [
    {
     "data": {
      "text/plain": [
       "tensor([[ 0.5279,  0.8786,  0.5593,  ..., 57.2751, 42.6358, 34.7170],\n",
       "        [ 0.5131,  0.8603,  0.5752,  ..., 57.3325, 47.1182, 32.2097],\n",
       "        [ 0.5136,  0.8583,  0.5781,  ..., 57.3320, 42.8524, 33.3256],\n",
       "        ...,\n",
       "        [ 0.5193,  0.8667,  0.5702,  ..., 57.3248, 42.8488, 33.0567],\n",
       "        [ 0.5270,  0.8776,  0.5602,  ..., 57.2918, 42.6675, 34.5296],\n",
       "        [ 0.5136,  0.8607,  0.5750,  ..., 57.3274, 45.3651, 33.1294]])"
      ]
     },
     "execution_count": 258,
     "metadata": {},
     "output_type": "execute_result"
    }
   ],
   "source": [
    "torch.index_select(learning_data.tensors[0], 0, torch.tensor(train_set.indices).to(torch.long))"
   ]
  },
  {
   "cell_type": "code",
   "execution_count": 74,
   "metadata": {},
   "outputs": [],
   "source": [
    "train_set = utils.data.TensorDataset(\n",
    "    torch.index_select(learning_data.tensors[0], 0, torch.tensor(train_set.indices)),\n",
    "    torch.index_select(learning_data.tensors[1], 0, torch.tensor(train_set.indices))\n",
    ")"
   ]
  },
  {
   "cell_type": "code",
   "execution_count": 75,
   "metadata": {},
   "outputs": [],
   "source": [
    "test_set = utils.data.TensorDataset(\n",
    "    torch.index_select(learning_data.tensors[0], 0, torch.tensor(test_set.indices)),\n",
    "    torch.index_select(learning_data.tensors[1], 0, torch.tensor(test_set.indices))\n",
    ")"
   ]
  },
  {
   "cell_type": "code",
   "execution_count": 261,
   "metadata": {},
   "outputs": [
    {
     "name": "stdout",
     "output_type": "stream",
     "text": [
      "244\n"
     ]
    }
   ],
   "source": [
    "print(len(test_set))"
   ]
  },
  {
   "cell_type": "code",
   "execution_count": 58,
   "metadata": {},
   "outputs": [
    {
     "data": {
      "text/plain": [
       "tensor(0.1178, grad_fn=<MeanBackward0>)"
      ]
     },
     "execution_count": 58,
     "metadata": {},
     "output_type": "execute_result"
    }
   ],
   "source": [
    "pred_AMF.mean()"
   ]
  },
  {
   "cell_type": "code",
   "execution_count": 47,
   "metadata": {},
   "outputs": [],
   "source": [
    "def evaluate_model(model, test_set, device=None):\n",
    "\n",
    "    if device is None:\n",
    "        device = \"cuda\" if torch.cuda.is_available() else \"cpu\"\n",
    "\n",
    "    \n",
    "    with torch.no_grad():\n",
    "        x, y= learning_data.tensors[0].float().to(device), learning_data.tensors[1].float().to(device)\n",
    "\n",
    "        pred_AMF = model(x)\n",
    "        test_loss = torch.sqrt(F.mse_loss(torch.flatten(pred_AMF), y))\n",
    "\n",
    "    plt.plot(np.arange(len(learning_data.tensors[0])), pred_AMF, color='red')\n",
    "    plt.plot(np.arange(len(learning_data.tensors[0])), y, color='green')\n",
    "\n",
    "    plt.imshow(pred_AMF.reshape(feature_map.shape[0], feature_map.shape[1]), vmin=0.5, vmax=1.5)\n",
    "    plt.colorbar()\n",
    "    plt.show()\n",
    "    \n",
    "    return test_loss\n"
   ]
  },
  {
   "cell_type": "code",
   "execution_count": 263,
   "metadata": {},
   "outputs": [
    {
     "data": {
      "text/plain": [
       "244"
      ]
     },
     "execution_count": 263,
     "metadata": {},
     "output_type": "execute_result"
    }
   ],
   "source": [
    "len(test_set.tensors[0])"
   ]
  },
  {
   "cell_type": "code",
   "execution_count": 88,
   "metadata": {},
   "outputs": [
    {
     "data": {
      "text/plain": [
       "tensor([[5.0751e-01, 8.4972e-01, 5.8632e-01, 3.5000e-02, 4.4473e+01],\n",
       "        [5.0768e-01, 8.5006e-01, 5.8596e-01, 3.5000e-02, 4.4473e+01],\n",
       "        [5.0786e-01, 8.5040e-01, 5.8560e-01, 3.5000e-02, 4.4473e+01],\n",
       "        ...,\n",
       "        [5.3135e-01, 8.8326e-01, 5.5531e-01, 3.6000e-02, 4.4484e+01],\n",
       "        [5.3154e-01, 8.8362e-01, 5.5497e-01, 3.6000e-02, 4.4485e+01],\n",
       "        [5.3174e-01, 8.8397e-01, 5.5462e-01, 3.6000e-02, 4.4490e+01]],\n",
       "       dtype=torch.float64)"
      ]
     },
     "execution_count": 88,
     "metadata": {},
     "output_type": "execute_result"
    }
   ],
   "source": [
    "learning_data.tensors[0]"
   ]
  },
  {
   "cell_type": "code",
   "execution_count": 31,
   "metadata": {},
   "outputs": [
    {
     "name": "stdout",
     "output_type": "stream",
     "text": [
      "Collecting wandbNote: you may need to restart the kernel to use updated packages.\n",
      "  Downloading wandb-0.12.12-py2.py3-none-any.whl (1.8 MB)\n",
      "Collecting pathtools\n",
      "  Using cached pathtools-0.1.2.tar.gz (11 kB)\n",
      "\n",
      "Collecting psutil>=5.0.0\n",
      "  Downloading psutil-5.9.0-cp39-cp39-win_amd64.whl (245 kB)\n",
      "Collecting setproctitle\n",
      "  Downloading setproctitle-1.2.2-cp39-cp39-win_amd64.whl (10 kB)\n",
      "Collecting shortuuid>=0.5.0\n",
      "  Using cached shortuuid-1.0.8-py3-none-any.whl (9.5 kB)\n",
      "Collecting GitPython>=1.0.0\n",
      "  Downloading GitPython-3.1.27-py3-none-any.whl (181 kB)\n",
      "Collecting promise<3,>=2.0\n",
      "  Using cached promise-2.3.tar.gz (19 kB)\n",
      "Collecting requests<3,>=2.0.0\n",
      "  Using cached requests-2.27.1-py2.py3-none-any.whl (63 kB)\n",
      "Collecting docker-pycreds>=0.4.0\n",
      "  Using cached docker_pycreds-0.4.0-py2.py3-none-any.whl (9.0 kB)\n",
      "Collecting Click!=8.0.0,>=7.0\n",
      "  Downloading click-8.1.2-py3-none-any.whl (96 kB)\n",
      "Collecting protobuf>=3.12.0\n",
      "  Downloading protobuf-3.20.0-cp39-cp39-win_amd64.whl (904 kB)\n",
      "Collecting PyYAML\n",
      "  Downloading PyYAML-6.0-cp39-cp39-win_amd64.whl (151 kB)\n",
      "Collecting sentry-sdk>=1.0.0\n",
      "  Downloading sentry_sdk-1.5.8-py2.py3-none-any.whl (144 kB)\n",
      "Requirement already satisfied: six>=1.13.0 in c:\\users\\wasii\\anaconda3\\envs\\tempo_env\\lib\\site-packages (from wandb) (1.16.0)\n",
      "Requirement already satisfied: python-dateutil>=2.6.1 in c:\\users\\wasii\\anaconda3\\envs\\tempo_env\\lib\\site-packages (from wandb) (2.8.2)\n",
      "Requirement already satisfied: colorama in c:\\users\\wasii\\anaconda3\\envs\\tempo_env\\lib\\site-packages (from Click!=8.0.0,>=7.0->wandb) (0.4.4)\n",
      "Collecting gitdb<5,>=4.0.1\n",
      "  Using cached gitdb-4.0.9-py3-none-any.whl (63 kB)\n",
      "Collecting smmap<6,>=3.0.1\n",
      "  Using cached smmap-5.0.0-py3-none-any.whl (24 kB)\n",
      "Collecting urllib3<1.27,>=1.21.1\n",
      "  Using cached urllib3-1.26.9-py2.py3-none-any.whl (138 kB)\n",
      "Requirement already satisfied: certifi>=2017.4.17 in c:\\users\\wasii\\anaconda3\\envs\\tempo_env\\lib\\site-packages (from requests<3,>=2.0.0->wandb) (2021.10.8)\n",
      "Collecting charset-normalizer~=2.0.0\n",
      "  Downloading charset_normalizer-2.0.12-py3-none-any.whl (39 kB)\n",
      "Collecting idna<4,>=2.5\n",
      "  Using cached idna-3.3-py3-none-any.whl (61 kB)\n",
      "Building wheels for collected packages: promise, pathtools\n",
      "  Building wheel for promise (setup.py): started\n",
      "  Building wheel for promise (setup.py): finished with status 'done'\n",
      "  Created wheel for promise: filename=promise-2.3-py3-none-any.whl size=21502 sha256=4c8f84f2ae1f263fadb4fcd95051db830f6a4247898a41e6641dbc96ee422c6c\n",
      "  Stored in directory: c:\\users\\wasii\\appdata\\local\\pip\\cache\\wheels\\e1\\e8\\83\\ddea66100678d139b14bc87692ece57c6a2a937956d2532608\n",
      "  Building wheel for pathtools (setup.py): started\n",
      "  Building wheel for pathtools (setup.py): finished with status 'done'\n",
      "  Created wheel for pathtools: filename=pathtools-0.1.2-py3-none-any.whl size=8807 sha256=4ab02baa3bfbc2e807d8d10e66dcff4b320f4e0cf12f7b743215e95544acc4fc\n",
      "  Stored in directory: c:\\users\\wasii\\appdata\\local\\pip\\cache\\wheels\\b7\\0a\\67\\ada2a22079218c75a88361c0782855cc72aebc4d18d0289d05\n",
      "Successfully built promise pathtools\n",
      "Installing collected packages: smmap, urllib3, idna, gitdb, charset-normalizer, shortuuid, setproctitle, sentry-sdk, requests, PyYAML, psutil, protobuf, promise, pathtools, GitPython, docker-pycreds, Click, wandb\n",
      "Successfully installed Click-8.1.2 GitPython-3.1.27 PyYAML-6.0 charset-normalizer-2.0.12 docker-pycreds-0.4.0 gitdb-4.0.9 idna-3.3 pathtools-0.1.2 promise-2.3 protobuf-3.20.0 psutil-5.9.0 requests-2.27.1 sentry-sdk-1.5.8 setproctitle-1.2.2 shortuuid-1.0.8 smmap-5.0.0 urllib3-1.26.9 wandb-0.12.12\n"
     ]
    }
   ],
   "source": [
    "pip install wandb"
   ]
  },
  {
   "cell_type": "code",
   "execution_count": 54,
   "metadata": {},
   "outputs": [
    {
     "data": {
      "text/html": [
       "wandb version 0.12.14 is available!  To upgrade, please run:\n",
       " $ pip install wandb --upgrade"
      ],
      "text/plain": [
       "<IPython.core.display.HTML object>"
      ]
     },
     "metadata": {},
     "output_type": "display_data"
    },
    {
     "data": {
      "text/html": [
       "Tracking run with wandb version 0.12.12"
      ],
      "text/plain": [
       "<IPython.core.display.HTML object>"
      ]
     },
     "metadata": {},
     "output_type": "display_data"
    },
    {
     "data": {
      "text/html": [
       "Run data is saved locally in <code>c:\\Users\\wasii\\Documents\\CodingProjects\\TEMPO_Work\\wandb\\run-20220421_115621-2w59jqz5</code>"
      ],
      "text/plain": [
       "<IPython.core.display.HTML object>"
      ]
     },
     "metadata": {},
     "output_type": "display_data"
    },
    {
     "data": {
      "text/html": [
       "Syncing run <strong><a href=\"https://wandb.ai/wasiim/tempo_ml_training/runs/2w59jqz5\" target=\"_blank\">crimson-darkness-27</a></strong> to <a href=\"https://wandb.ai/wasiim/tempo_ml_training\" target=\"_blank\">Weights & Biases</a> (<a href=\"https://wandb.me/run\" target=\"_blank\">docs</a>)<br/>"
      ],
      "text/plain": [
       "<IPython.core.display.HTML object>"
      ]
     },
     "metadata": {},
     "output_type": "display_data"
    },
    {
     "data": {
      "image/png": "[encoded data removed]",
      "text/plain": [
       "<Figure size 432x288 with 2 Axes>"
      ]
     },
     "metadata": {
      "needs_background": "light"
     },
     "output_type": "display_data"
    },
    {
     "name": "stdout",
     "output_type": "stream",
     "text": [
      "tensor(0.0864, grad_fn=<SqrtBackward0>) tensor(0.0075)\n",
      "\n"
     ]
    },
    {
     "data": {
      "text/html": [
       "Waiting for W&B process to finish... <strong style=\"color:green\">(success).</strong>"
      ],
      "text/plain": [
       "<IPython.core.display.HTML object>"
      ]
     },
     "metadata": {},
     "output_type": "display_data"
    },
    {
     "data": {
      "text/html": [
       "<style>\n",
       "    table.wandb td:nth-child(1) { padding: 0 10px; text-align: right }\n",
       "    .wandb-row { display: flex; flex-direction: row; flex-wrap: wrap; width: 100% }\n",
       "    .wandb-col { display: flex; flex-direction: column; flex-basis: 100%; flex: 1; padding: 10px; }\n",
       "    </style>\n",
       "<div class=\"wandb-row\"><div class=\"wandb-col\"><h3>Run history:</h3><br/><table class=\"wandb\"><tr><td>epoch</td><td>▁▁▁▂▂▂▂▂▂▃▃▃▃▃▃▄▄▄▄▄▅▅▅▅▅▅▆▆▆▆▆▇▇▇▇▇▇███</td></tr><tr><td>learning_rate</td><td>▁▁▁▁▁▁▁▁▁▁▁▁▁▁▁▁▁▁▁▁▁▁▁▁▁▁▁▁▁▁▁▁▁▁▁▁▁▁▁▁</td></tr><tr><td>train_loss</td><td>█▁▁▁▁▁▁▁▁▁▁▁▁▁▁▁▁▁▁▁▁▁▁▁▁▁▁▁▁▁▁▁▁▁▁▁▁▁▁▁</td></tr></table><br/></div><div class=\"wandb-col\"><h3>Run summary:</h3><br/><table class=\"wandb\"><tr><td>epoch</td><td>12458</td></tr><tr><td>learning_rate</td><td>1e-05</td></tr><tr><td>train_loss</td><td>0.0864</td></tr></table><br/></div></div>"
      ],
      "text/plain": [
       "<IPython.core.display.HTML object>"
      ]
     },
     "metadata": {},
     "output_type": "display_data"
    },
    {
     "data": {
      "text/html": [
       "Synced <strong style=\"color:#cdcd00\">crimson-darkness-27</strong>: <a href=\"https://wandb.ai/wasiim/tempo_ml_training/runs/2w59jqz5\" target=\"_blank\">https://wandb.ai/wasiim/tempo_ml_training/runs/2w59jqz5</a><br/>Synced 5 W&B file(s), 0 media file(s), 0 artifact file(s) and 0 other file(s)"
      ],
      "text/plain": [
       "<IPython.core.display.HTML object>"
      ]
     },
     "metadata": {},
     "output_type": "display_data"
    },
    {
     "data": {
      "text/html": [
       "Find logs at: <code>.\\wandb\\run-20220421_115621-2w59jqz5\\logs</code>"
      ],
      "text/plain": [
       "<IPython.core.display.HTML object>"
      ]
     },
     "metadata": {},
     "output_type": "display_data"
    }
   ],
   "source": [
    "import NN_layer\n",
    "import torch.nn.functional as F\n",
    "\n",
    "import tqdm\n",
    "import wandb\n",
    "\n",
    "\n",
    "run = wandb.init(project=f\"tempo_ml_training\")\n",
    "\n",
    "max_epochs = 120000\n",
    "\n",
    "device = 'cpu'\n",
    "\n",
    "input_size = len(learning_data[0][0])\n",
    "\n",
    "model = NN_layer.AMFNet(input_size, 10)\n",
    "adamWOptim = torch.optim.AdamW(model.parameters(), lr=1e-5)\n",
    "\n",
    "previous_loss = 0\n",
    "\n",
    "epsilon = 1e-45\n",
    "\n",
    "for epoch in range(max_epochs):\n",
    "\n",
    "    x, y = learning_data.tensors[0].float().to(device), learning_data.tensors[1].float().to(device)\n",
    "    pred_AMF = model(x)\n",
    "\n",
    "    #print(model.fc1.weight)\n",
    "    \n",
    "    loss = torch.sqrt(F.mse_loss(torch.flatten(pred_AMF), y))\n",
    "\n",
    "    if torch.abs(loss - previous_loss) < epsilon:\n",
    "        break\n",
    "    previous_loss = loss\n",
    "    # zero out gradients\n",
    "    adamWOptim.zero_grad() \n",
    "    # 4. Backpropagate the loss\n",
    "    loss.backward()\n",
    "    # 5. Update the parameters\n",
    "    adamWOptim.step()\n",
    "\n",
    "    wandb.log(\n",
    "        {\n",
    "            \"train_loss\": loss,\n",
    "            \"learning_rate\": adamWOptim.param_groups[0][\"lr\"],\n",
    "            \"epoch\": epoch,\n",
    "        },\n",
    "        step=epoch,\n",
    "    )\n",
    "\n",
    "    # if epoch % 200 == 0:\n",
    "    #     print(loss)\n",
    "\n",
    "    # if epoch > 10000 and (loss - previous_loss) <= 1e-20:\n",
    "    #     break\n",
    "    \n",
    "    #previous_loss = loss\n",
    "\n",
    "\n",
    "test_loss = evaluate_model(model, learning_data)\n",
    "\n",
    "print(loss, test_loss)\n",
    "run.finish()\n"
   ]
  },
  {
   "cell_type": "code",
   "execution_count": 80,
   "metadata": {},
   "outputs": [
    {
     "data": {
      "text/plain": [
       "1.0813417591122614"
      ]
     },
     "execution_count": 80,
     "metadata": {},
     "output_type": "execute_result"
    }
   ],
   "source": [
    "np.sqrt(1.1693)"
   ]
  },
  {
   "cell_type": "code",
   "execution_count": 48,
   "metadata": {},
   "outputs": [
    {
     "data": {
      "image/png": "[encoded data removed]",
      "text/plain": [
       "<Figure size 432x288 with 2 Axes>"
      ]
     },
     "metadata": {
      "needs_background": "light"
     },
     "output_type": "display_data"
    }
   ],
   "source": [
    "test_loss = evaluate_model(model, learning_data)"
   ]
  },
  {
   "cell_type": "code",
   "execution_count": 44,
   "metadata": {},
   "outputs": [
    {
     "data": {
      "text/plain": [
       "<matplotlib.colorbar.Colorbar at 0x26e1fa122e0>"
      ]
     },
     "execution_count": 44,
     "metadata": {},
     "output_type": "execute_result"
    },
    {
     "data": {
      "image/png": "[encoded data removed]",
      "text/plain": [
       "<Figure size 432x288 with 2 Axes>"
      ]
     },
     "metadata": {
      "needs_background": "light"
     },
     "output_type": "display_data"
    }
   ],
   "source": [
    "    plt.imshow(learning_data.tensors[1].reshape(feature_map.shape[0], feature_map.shape[1]), vmin=0.5, vmax=1.5)\n",
    "\n",
    "    plt.colorbar()"
   ]
  },
  {
   "cell_type": "code",
   "execution_count": 65,
   "metadata": {},
   "outputs": [
    {
     "data": {
      "text/plain": [
       "<matplotlib.image.AxesImage at 0x1c2e5094610>"
      ]
     },
     "execution_count": 65,
     "metadata": {},
     "output_type": "execute_result"
    },
    {
     "data": {
      "image/png": "[encoded data removed]",
      "text/plain": [
       "<Figure size 432x288 with 1 Axes>"
      ]
     },
     "metadata": {
      "needs_background": "light"
     },
     "output_type": "display_data"
    }
   ],
   "source": [
    "plt.imshow(surface_pressure)"
   ]
  }
 ],
 "metadata": {
  "interpreter": {
   "hash": "3d4f5250c29a36f4a677617d452f427d5d967e0219d10723886831e749c77b66"
  },
  "kernelspec": {
   "display_name": "Python 3.9.7 ('tempo_env')",
   "language": "python",
   "name": "python3"
  },
  "language_info": {
   "codemirror_mode": {
    "name": "ipython",
    "version": 3
   },
   "file_extension": ".py",
   "mimetype": "text/x-python",
   "name": "python",
   "nbconvert_exporter": "python",
   "pygments_lexer": "ipython3",
   "version": "3.9.7"
  },
  "orig_nbformat": 4
 },
 "nbformat": 4,
 "nbformat_minor": 2
}
